{
 "cells": [
  {
   "cell_type": "code",
   "execution_count": 10,
   "id": "6aabb09a",
   "metadata": {},
   "outputs": [],
   "source": [
    "from array import *"
   ]
  },
  {
   "cell_type": "code",
   "execution_count": 11,
   "id": "c0d5f0ba",
   "metadata": {},
   "outputs": [
    {
     "name": "stdout",
     "output_type": "stream",
     "text": [
      "1\n",
      "2\n",
      "3\n",
      "4\n",
      "5\n"
     ]
    }
   ],
   "source": [
    "# 1. Create an array and traverse\n",
    "\n",
    "arr = array('i', [1,2,3,4,5])\n",
    "for i in arr:\n",
    "    print(i)"
   ]
  },
  {
   "cell_type": "code",
   "execution_count": 12,
   "id": "799aca5f",
   "metadata": {},
   "outputs": [
    {
     "name": "stdout",
     "output_type": "stream",
     "text": [
      "1\n"
     ]
    }
   ],
   "source": [
    "# 2. Access individual elements through indexes\n",
    "print(arr[0])"
   ]
  },
  {
   "cell_type": "code",
   "execution_count": 13,
   "id": "ddde2669",
   "metadata": {},
   "outputs": [
    {
     "name": "stdout",
     "output_type": "stream",
     "text": [
      "array('i', [1, 2, 3, 4, 5, 6])\n"
     ]
    }
   ],
   "source": [
    "# 3. Append any value to the array using append() method\n",
    "arr.append(6)\n",
    "print(arr)"
   ]
  },
  {
   "cell_type": "code",
   "execution_count": 14,
   "id": "24a6f70a",
   "metadata": {},
   "outputs": [
    {
     "name": "stdout",
     "output_type": "stream",
     "text": [
      "array('i', [11, 1, 2, 3, 4, 5, 6])\n"
     ]
    }
   ],
   "source": [
    "# 4. Insert value in an array using insert() method\n",
    "arr.insert(0, 11)\n",
    "print(arr)"
   ]
  },
  {
   "cell_type": "code",
   "execution_count": 15,
   "id": "025b354e",
   "metadata": {},
   "outputs": [
    {
     "name": "stdout",
     "output_type": "stream",
     "text": [
      "array('i', [11, 1, 2, 3, 4, 5, 6, 7, 8, 9, 10])\n"
     ]
    }
   ],
   "source": [
    "# 5. Extend python array using extend() method\n",
    "arr1 = array('i', [7,8,9,10])\n",
    "arr.extend(arr1)\n",
    "print(arr)"
   ]
  },
  {
   "cell_type": "code",
   "execution_count": 16,
   "id": "e86673a7",
   "metadata": {},
   "outputs": [
    {
     "name": "stdout",
     "output_type": "stream",
     "text": [
      "array('i', [11, 1, 2, 3, 4, 5, 6, 7, 8, 9, 10, 11, 12, 13])\n"
     ]
    }
   ],
   "source": [
    "# 6. Add items from list into array using fromlist() method\n",
    "\n",
    "tempList = [11,12,13]\n",
    "arr.fromlist(tempList)\n",
    "print(arr)"
   ]
  },
  {
   "cell_type": "code",
   "execution_count": 19,
   "id": "cdd81396",
   "metadata": {},
   "outputs": [
    {
     "name": "stdout",
     "output_type": "stream",
     "text": [
      "array('i', [1, 2, 3, 4, 5, 6, 7, 8, 9, 10, 11, 13])\n"
     ]
    }
   ],
   "source": [
    "# 7. Remove any array element using remove() method\n",
    "arr.remove(12)\n",
    "print(arr)\n"
   ]
  },
  {
   "cell_type": "code",
   "execution_count": 20,
   "id": "33add2bf",
   "metadata": {},
   "outputs": [
    {
     "name": "stdout",
     "output_type": "stream",
     "text": [
      "array('i', [1, 2, 3, 4, 5, 6, 7, 8, 9, 10, 11])\n"
     ]
    }
   ],
   "source": [
    "# 8. Remove last element using pop() method\n",
    "arr.pop()\n",
    "print(arr)"
   ]
  },
  {
   "cell_type": "code",
   "execution_count": 21,
   "id": "8f0c6ddb",
   "metadata": {},
   "outputs": [
    {
     "name": "stdout",
     "output_type": "stream",
     "text": [
      "5\n"
     ]
    }
   ],
   "source": [
    "# 9. Fetch any element through its index using index() method\n",
    "print(arr.index(6))"
   ]
  },
  {
   "cell_type": "code",
   "execution_count": 22,
   "id": "7afe590e",
   "metadata": {},
   "outputs": [
    {
     "name": "stdout",
     "output_type": "stream",
     "text": [
      "array('i', [11, 10, 9, 8, 7, 6, 5, 4, 3, 2, 1])\n"
     ]
    }
   ],
   "source": [
    "# 10. Reverse a python array using reverse() method\n",
    "arr.reverse()\n",
    "print(arr)"
   ]
  },
  {
   "cell_type": "code",
   "execution_count": 23,
   "id": "c7ba5994",
   "metadata": {},
   "outputs": [
    {
     "name": "stdout",
     "output_type": "stream",
     "text": [
      "(1847799966640, 11)\n"
     ]
    }
   ],
   "source": [
    "# 11. Get array buffer information through buffer_info()\n",
    "print(arr.buffer_info()) # Output: (ADDRESS, LENGTH)"
   ]
  },
  {
   "cell_type": "code",
   "execution_count": 25,
   "id": "5228a318",
   "metadata": {},
   "outputs": [
    {
     "name": "stdout",
     "output_type": "stream",
     "text": [
      "2\n"
     ]
    }
   ],
   "source": [
    "# 12. Check the number of occurrences of an element using count() method\n",
    "arr.append(11)\n",
    "print(arr.count(11))"
   ]
  },
  {
   "cell_type": "code",
   "execution_count": null,
   "id": "b51cd6c4",
   "metadata": {},
   "outputs": [],
   "source": [
    "# 13. Convert array to string using tostring() method\n",
    "\n",
    "# strTemp = arr.tostring()\n",
    "# print(strTemp)\n",
    "# ints = array('i')\n",
    "# ints.fromstring(strTempr)\n",
    "# print(ints)"
   ]
  },
  {
   "cell_type": "code",
   "execution_count": 28,
   "id": "ebdd3e6b",
   "metadata": {},
   "outputs": [
    {
     "name": "stdout",
     "output_type": "stream",
     "text": [
      "[11, 10, 9, 8, 7, 6, 5, 4, 3, 2, 1, 11]\n"
     ]
    }
   ],
   "source": [
    "# 14. Convert array to a python list with same elements using tolist() method\n",
    "print(arr.tolist())"
   ]
  },
  {
   "cell_type": "code",
   "execution_count": 30,
   "id": "68711139",
   "metadata": {},
   "outputs": [
    {
     "name": "stdout",
     "output_type": "stream",
     "text": [
      "array('i', [9, 8, 7, 6, 5, 4, 3, 2, 1, 11])\n",
      "array('i', [11, 10, 9, 8])\n"
     ]
    }
   ],
   "source": [
    "# 15. Slice Elements from an array\n",
    "print(arr[2:])\n",
    "print(arr[:4])"
   ]
  },
  {
   "cell_type": "code",
   "execution_count": null,
   "id": "2a43ce9b",
   "metadata": {},
   "outputs": [],
   "source": []
  }
 ],
 "metadata": {
  "kernelspec": {
   "display_name": "venv",
   "language": "python",
   "name": "python3"
  },
  "language_info": {
   "codemirror_mode": {
    "name": "ipython",
    "version": 3
   },
   "file_extension": ".py",
   "mimetype": "text/x-python",
   "name": "python",
   "nbconvert_exporter": "python",
   "pygments_lexer": "ipython3",
   "version": "3.13.2"
  }
 },
 "nbformat": 4,
 "nbformat_minor": 5
}
